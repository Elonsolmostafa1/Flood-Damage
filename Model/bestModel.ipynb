{
 "cells": [
  {
   "cell_type": "code",
   "execution_count": 71,
   "metadata": {},
   "outputs": [],
   "source": [
    "import os\n",
    "import cv2\n",
    "import torch\n",
    "import numpy as np\n",
    "from torchvision.models import resnet50\n",
    "import torchvision.transforms as transforms\n",
    "from sklearn.svm import SVC\n",
    "from sklearn.ensemble import RandomForestClassifier\n",
    "from sklearn.metrics import classification_report\n",
    "from sklearn.model_selection import train_test_split\n",
    "import torchvision.transforms as transforms\n",
    "from skimage.feature import local_binary_pattern\n"
   ]
  },
  {
   "cell_type": "code",
   "execution_count": 72,
   "metadata": {},
   "outputs": [],
   "source": [
    "# Define the paths to your flooded and non-flooded image folders\n",
    "flooded_image_folder = 'dataset/flooded/'\n",
    "non_flooded_image_folder = 'dataset/non-flooded/'"
   ]
  },
  {
   "cell_type": "code",
   "execution_count": 73,
   "metadata": {},
   "outputs": [],
   "source": [
    "# Function to read and preprocess the images\n",
    "def preprocess_image(image_path):\n",
    "    # Read the image\n",
    "    image = cv2.imread(image_path)\n",
    "    \n",
    "    # Apply preprocessing steps\n",
    "    # For example, you can resize the image to a specific size (e.g., 256x256)\n",
    "    resized_image = cv2.resize(image, (256, 256))\n",
    "    \n",
    "    # You can apply additional preprocessing steps here, such as noise removal, image enhancement, etc.\n",
    "    \n",
    "    # Normalize the pixel values to a specific range (e.g., 0-1)\n",
    "    normalized_image = resized_image.astype(np.float32) / 255.0\n",
    "    \n",
    "    return normalized_image"
   ]
  },
  {
   "cell_type": "code",
   "execution_count": 74,
   "metadata": {},
   "outputs": [],
   "source": [
    "# Read and preprocess the flooded images\n",
    "flooded_images = []\n",
    "for image_file in os.listdir(flooded_image_folder):\n",
    "    image_path = os.path.join(flooded_image_folder, image_file)\n",
    "    preprocessed_image = preprocess_image(image_path)\n",
    "    flooded_images.append(preprocessed_image)"
   ]
  },
  {
   "cell_type": "code",
   "execution_count": 75,
   "metadata": {},
   "outputs": [],
   "source": [
    "# Read and preprocess the non-flooded images\n",
    "non_flooded_images = []\n",
    "for image_file in os.listdir(non_flooded_image_folder):\n",
    "    image_path = os.path.join(non_flooded_image_folder, image_file)\n",
    "    preprocessed_image = preprocess_image(image_path)\n",
    "    non_flooded_images.append(preprocessed_image)"
   ]
  },
  {
   "cell_type": "code",
   "execution_count": 76,
   "metadata": {},
   "outputs": [],
   "source": [
    "# Convert the image lists to NumPy arrays\n",
    "flooded_images = np.array(flooded_images)\n",
    "non_flooded_images = np.array(non_flooded_images)"
   ]
  },
  {
   "cell_type": "code",
   "execution_count": 77,
   "metadata": {},
   "outputs": [
    {
     "name": "stdout",
     "output_type": "stream",
     "text": [
      "Shape of flooded images array: (425, 256, 256, 3)\n",
      "Shape of non-flooded images array: (425, 256, 256, 3)\n"
     ]
    }
   ],
   "source": [
    "# Print the shapes of the preprocessed image arrays\n",
    "print(\"Shape of flooded images array:\", flooded_images.shape)\n",
    "print(\"Shape of non-flooded images array:\", non_flooded_images.shape)"
   ]
  },
  {
   "cell_type": "code",
   "execution_count": 78,
   "metadata": {},
   "outputs": [],
   "source": [
    "def extract_cnn_features(image):\n",
    "    # Preprocess the image for ResNet-50\n",
    "    transform = transforms.Compose([\n",
    "        transforms.ToPILImage(),\n",
    "        transforms.ToTensor(),\n",
    "        transforms.Normalize(mean=[0.485, 0.456, 0.406], std=[0.229, 0.224, 0.225])\n",
    "    ])\n",
    "    \n",
    "    # Convert the image to uint8 data type\n",
    "    image = (image * 255).astype(np.uint8)\n",
    "    \n",
    "    # Apply the transformations\n",
    "    preprocessed_image = transform(image)\n",
    "    \n",
    "    # Load the pre-trained ResNet-50 model\n",
    "    model = resnet50(pretrained=True)\n",
    "    \n",
    "    # Remove the last fully connected layer from the model\n",
    "    features_model = torch.nn.Sequential(*list(model.children())[:-1])\n",
    "    \n",
    "    # Set the model to evaluation mode\n",
    "    features_model.eval()\n",
    "    \n",
    "    # Extract features from the preprocessed image\n",
    "    with torch.no_grad():\n",
    "        features = features_model(preprocessed_image.unsqueeze(0))\n",
    "    \n",
    "    # Flatten the features\n",
    "    flattened_features = features.view(features.size(0), -1).numpy()\n",
    "    \n",
    "    return flattened_features"
   ]
  },
  {
   "cell_type": "code",
   "execution_count": 79,
   "metadata": {},
   "outputs": [],
   "source": [
    "# Function to extract features using Local Binary Patterns (LBP)\n",
    "def extract_lbp_features(image):\n",
    "    # Convert the image to grayscale\n",
    "    grayscale_image = cv2.cvtColor(image, cv2.COLOR_BGR2GRAY)\n",
    "    \n",
    "    # Compute LBP features\n",
    "    lbp = local_binary_pattern(grayscale_image, 8, 1, method='uniform')\n",
    "    histogram, _ = np.histogram(lbp.ravel(), bins=np.arange(0, 10), range=(0, 10))\n",
    "    normalized_histogram = histogram.astype(np.float32) / np.sum(histogram)\n",
    "    \n",
    "    return normalized_histogram"
   ]
  },
  {
   "cell_type": "code",
   "execution_count": 80,
   "metadata": {},
   "outputs": [
    {
     "name": "stderr",
     "output_type": "stream",
     "text": [
      "c:\\ProgramData\\Anaconda3\\lib\\site-packages\\torchvision\\models\\_utils.py:208: UserWarning: The parameter 'pretrained' is deprecated since 0.13 and may be removed in the future, please use 'weights' instead.\n",
      "  warnings.warn(\n",
      "c:\\ProgramData\\Anaconda3\\lib\\site-packages\\torchvision\\models\\_utils.py:223: UserWarning: Arguments other than a weight enum or `None` for 'weights' are deprecated since 0.13 and may be removed in the future. The current behavior is equivalent to passing `weights=ResNet50_Weights.IMAGENET1K_V1`. You can also use `weights=ResNet50_Weights.DEFAULT` to get the most up-to-date weights.\n",
      "  warnings.warn(msg)\n"
     ]
    },
    {
     "name": "stdout",
     "output_type": "stream",
     "text": [
      "Shape of flooded CNN features array: (425, 1, 2048)\n",
      "Shape of flooded CNN features array: (425, 9)\n"
     ]
    }
   ],
   "source": [
    "# Apply feature extraction methods to the flooded images\n",
    "flooded_cnn_features = []\n",
    "flooded_lbp_features = []\n",
    "\n",
    "for image in flooded_images:\n",
    "    flooded_cnn_features.append(extract_cnn_features(image))\n",
    "    flooded_lbp_features.append(extract_lbp_features(image))\n",
    "\n",
    "\n",
    "\n",
    "# Convert the feature lists to NumPy arrays\n",
    "flooded_cnn_features = np.array(flooded_cnn_features)\n",
    "flooded_lbp_features = np.array(flooded_lbp_features)\n",
    "\n",
    "# Print the shapes of the feature arrays\n",
    "print(\"Shape of flooded CNN features array:\", flooded_cnn_features.shape)\n",
    "print(\"Shape of flooded CNN features array:\", flooded_lbp_features.shape)"
   ]
  },
  {
   "cell_type": "code",
   "execution_count": 81,
   "metadata": {},
   "outputs": [
    {
     "name": "stdout",
     "output_type": "stream",
     "text": [
      "Shape of non-flooded CNN features array: (425, 1, 2048)\n",
      "Shape of non-flooded CNN features array: (425, 9)\n"
     ]
    }
   ],
   "source": [
    "# Apply feature extraction methods to the non-flooded images\n",
    "non_flooded_cnn_features = []\n",
    "non_flooded_lbp_features = []\n",
    "\n",
    "\n",
    "for image in non_flooded_images:\n",
    "    non_flooded_cnn_features.append(extract_cnn_features(image))\n",
    "    non_flooded_lbp_features.append(extract_lbp_features(image))\n",
    "\n",
    "# Convert the feature lists to NumPy arrays\n",
    "non_flooded_cnn_features = np.array(non_flooded_cnn_features)\n",
    "non_flooded_lbp_features = np.array(non_flooded_lbp_features)\n",
    "\n",
    "# Print the shapes of the feature arrays\n",
    "print(\"Shape of non-flooded CNN features array:\", non_flooded_cnn_features.shape)\n",
    "print(\"Shape of non-flooded CNN features array:\", non_flooded_lbp_features.shape)"
   ]
  },
  {
   "cell_type": "code",
   "execution_count": 93,
   "metadata": {},
   "outputs": [],
   "source": [
    "def random_forest_classification (cnn_flooded_features, cnn_non_flooded_features, lbp_flooded_features, lbp_non_flooded_features):\n",
    "    \n",
    "    \n",
    "    # Combine the CNN features\n",
    "    cnn_features = np.concatenate((cnn_flooded_features, cnn_non_flooded_features), axis=0)\n",
    "    cnn_features = cnn_features.reshape(cnn_features.shape[0], -1)\n",
    "\n",
    "    # Combine the LBP features\n",
    "    lbp_features = np.concatenate((lbp_flooded_features, lbp_non_flooded_features), axis=0)\n",
    "\n",
    "    # Combine the features\n",
    "    features = np.concatenate((cnn_features, lbp_features), axis=1)\n",
    "\n",
    "    # Combine the labels for training\n",
    "    labels = np.concatenate((np.ones(len(cnn_flooded_features)), np.zeros(len(cnn_non_flooded_features))), axis=0)\n",
    "\n",
    "\n",
    "    # Split the data into training and testing sets\n",
    "    X_train, X_test, y_train, y_test = train_test_split(features, labels, test_size=0.1, random_state=42)\n",
    "    print(X_test)\n",
    "\n",
    "    # Initialize and train the Random Forest classifier\n",
    "    rf_classifier = RandomForestClassifier(n_estimators=100, random_state=42)\n",
    "    rf_classifier.fit(X_train, y_train)\n",
    "\n",
    "    # Make predictions on the test set\n",
    "    y_pred = rf_classifier.predict(X_test)\n",
    "\n",
    "    # Evaluate the performance of the classifier\n",
    "    classification_metrics = classification_report(y_test, y_pred)\n",
    "    print(classification_metrics)\n",
    "    return rf_classifier\n"
   ]
  },
  {
   "cell_type": "code",
   "execution_count": 96,
   "metadata": {},
   "outputs": [
    {
     "name": "stdout",
     "output_type": "stream",
     "text": [
      "[[0.17089361 0.34173584 0.52135956 ... 0.05836487 0.10435486 0.35571289]\n",
      " [0.13594151 0.03875391 0.59357691 ... 0.07199097 0.09033203 0.245224  ]\n",
      " [0.51508635 0.59531248 0.63556683 ... 0.06089783 0.10874939 0.36103821]\n",
      " ...\n",
      " [0.40926659 0.22301556 0.52010506 ... 0.05654907 0.07208252 0.43473816]\n",
      " [0.62423277 0.47361854 0.60128808 ... 0.05465698 0.10926819 0.37112427]\n",
      " [0.55211419 0.60877651 0.15683565 ... 0.07328796 0.0738678  0.19538879]]\n",
      "              precision    recall  f1-score   support\n",
      "\n",
      "         0.0       0.88      0.98      0.93        45\n",
      "         1.0       0.97      0.85      0.91        40\n",
      "\n",
      "    accuracy                           0.92        85\n",
      "   macro avg       0.93      0.91      0.92        85\n",
      "weighted avg       0.92      0.92      0.92        85\n",
      "\n"
     ]
    }
   ],
   "source": [
    "rf_classifier = random_forest_classification(flooded_cnn_features,non_flooded_cnn_features,flooded_lbp_features,non_flooded_lbp_features)"
   ]
  },
  {
   "cell_type": "code",
   "execution_count": 84,
   "metadata": {},
   "outputs": [],
   "source": [
    "import pickle\n",
    "# Save the trained model to a file\n",
    "with open('model.pkl', 'wb') as file:\n",
    "    pickle.dump(rf_classifier, file)"
   ]
  }
 ],
 "metadata": {
  "kernelspec": {
   "display_name": "base",
   "language": "python",
   "name": "python3"
  },
  "language_info": {
   "codemirror_mode": {
    "name": "ipython",
    "version": 3
   },
   "file_extension": ".py",
   "mimetype": "text/x-python",
   "name": "python",
   "nbconvert_exporter": "python",
   "pygments_lexer": "ipython3",
   "version": "3.9.7"
  },
  "orig_nbformat": 4
 },
 "nbformat": 4,
 "nbformat_minor": 2
}
